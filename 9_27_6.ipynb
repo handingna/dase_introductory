{
 "cells": [
  {
   "cell_type": "code",
   "execution_count": null,
   "id": "585a83b5-a5c7-4e87-a05d-d774227fb091",
   "metadata": {},
   "outputs": [],
   "source": [
    "#Q6 结合本周理论课所学内容，使用三种方法求$\\sqrt{2}$的近似值"
   ]
  },
  {
   "cell_type": "code",
   "execution_count": 6,
   "id": "bef4592d-ac31-4a5e-9498-c7ad773119a5",
   "metadata": {},
   "outputs": [
    {
     "name": "stdout",
     "output_type": "stream",
     "text": [
      "g=1.41418\n"
     ]
    }
   ],
   "source": [
    "#A1 循环迭代，逐步逼近\n",
    "c=2\n",
    "i=0\n",
    "g=0\n",
    "for j in range(0, c+1):\n",
    "    if (j*j)>c and g==0:\n",
    "        g=j-1\n",
    "while (abs(g*g-c)>0.0001):\n",
    "    g+=0.00001\n",
    "    i=i+1\n",
    "print(\"g=%.5f\"%(g))"
   ]
  },
  {
   "cell_type": "code",
   "execution_count": 7,
   "id": "23550f95-beab-4c88-9d0c-4d61c6f541c4",
   "metadata": {},
   "outputs": [
    {
     "name": "stdout",
     "output_type": "stream",
     "text": [
      "g=1.4142135623697\n"
     ]
    }
   ],
   "source": [
    "#A2 二分查找，折半返回\n",
    "i=0\n",
    "c=2\n",
    "m_max=c\n",
    "m_min=0\n",
    "g=(m_max+m_min)/2\n",
    "while (abs(g*g-c)>0.00000000001):\n",
    "    if(g*g<c):\n",
    "        m_min=g\n",
    "    else:\n",
    "        m_max=g\n",
    "    g=(m_max+m_min)/2\n",
    "    i=i+1\n",
    "print(\"g=%.13f\"%(g))\n",
    "          \n"
   ]
  },
  {
   "cell_type": "code",
   "execution_count": 8,
   "id": "536da7b7-a8b6-430a-aaa4-762703665c68",
   "metadata": {},
   "outputs": [
    {
     "name": "stdout",
     "output_type": "stream",
     "text": [
      "g=1.4142135623747\n"
     ]
    }
   ],
   "source": [
    "#A3 曲线切线， 线性逼近\n",
    "c=2\n",
    "g=c/2\n",
    "i=0\n",
    "while (abs(g*g-c)>0.00000000001):\n",
    "    g=(g+c/g)/2\n",
    "    i=i+1\n",
    "print(\"g=%.13f\"%(g))    "
   ]
  }
 ],
 "metadata": {
  "kernelspec": {
   "display_name": "Python 3 (ipykernel)",
   "language": "python",
   "name": "python3"
  },
  "language_info": {
   "codemirror_mode": {
    "name": "ipython",
    "version": 3
   },
   "file_extension": ".py",
   "mimetype": "text/x-python",
   "name": "python",
   "nbconvert_exporter": "python",
   "pygments_lexer": "ipython3",
   "version": "3.10.4"
  }
 },
 "nbformat": 4,
 "nbformat_minor": 5
}
