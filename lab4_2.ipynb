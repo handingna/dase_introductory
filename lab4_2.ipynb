{
 "cells": [
  {
   "cell_type": "code",
   "execution_count": 15,
   "id": "be15b6d8-7879-4e19-8ea8-76499db8b097",
   "metadata": {},
   "outputs": [
    {
     "name": "stdout",
     "output_type": "stream",
     "text": [
      "8 4\n",
      "0 4\n"
     ]
    }
   ],
   "source": [
    "#Q2 请创建一个类模拟实现数据结构中的“队列”，类中应包含入队、出队、取队首/队尾元素等方法，并进行测试。\n",
    "class Queue():\n",
    "    def init(self):\n",
    "        self.arr=[]\n",
    "    def size(self):\n",
    "        return len(self.arr)\n",
    "    def empty(self):\n",
    "        if len(self.arr)==0:\n",
    "            return True\n",
    "        else:\n",
    "            return False\n",
    "    def push(self, item):\n",
    "        self.arr.append(item)\n",
    "    def pop(self):\n",
    "        if(self.empty()):\n",
    "            print(\"This queue is empty\")\n",
    "        else:\n",
    "            self.arr.pop(0)\n",
    "    def head(self):\n",
    "        if(self.empty()):\n",
    "            print(\"This queue is empty\")\n",
    "        else:\n",
    "            return self.arr[0]\n",
    "    def tail(self):\n",
    "        if(self.empty()):\n",
    "            print(\"This queue is empty\")\n",
    "        else:\n",
    "            return self.arr[self.size()-1]\n",
    "s=Queue()\n",
    "s.init()\n",
    "s.push(8)\n",
    "s.push(0)\n",
    "s.push(5)\n",
    "s.push(4)\n",
    "print(s.head(), s.tail())\n",
    "s.pop()\n",
    "print(s.head(), s.tail())\n",
    "\n"
   ]
  },
  {
   "cell_type": "code",
   "execution_count": null,
   "id": "0ebb40c7-f31f-43ef-8c8d-4b2426c34134",
   "metadata": {},
   "outputs": [],
   "source": []
  }
 ],
 "metadata": {
  "kernelspec": {
   "display_name": "Python 3 (ipykernel)",
   "language": "python",
   "name": "python3"
  },
  "language_info": {
   "codemirror_mode": {
    "name": "ipython",
    "version": 3
   },
   "file_extension": ".py",
   "mimetype": "text/x-python",
   "name": "python",
   "nbconvert_exporter": "python",
   "pygments_lexer": "ipython3",
   "version": "3.10.4"
  }
 },
 "nbformat": 4,
 "nbformat_minor": 5
}
