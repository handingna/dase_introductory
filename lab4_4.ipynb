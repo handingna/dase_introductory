{
 "cells": [
  {
   "cell_type": "code",
   "execution_count": 1,
   "id": "17e85ca9-017d-4127-9485-20a2dc624bc7",
   "metadata": {},
   "outputs": [
    {
     "name": "stdout",
     "output_type": "stream",
     "text": [
      "5 6 2 7 4 1 0 8 \n"
     ]
    }
   ],
   "source": [
    "#Q4 请在实验4-4的基础上实现输出叶子节点的函数。\n",
    "class BinaryTree:\n",
    "    def __init__(self,data=None,left=None,right=None):  # 如果创建节点对象时left或right参数为空，则默认该节点没有左或右子树\n",
    "        self.data=data\n",
    "        self.left=left\n",
    "        self.right=right\n",
    "    def preorder(self):  # 前序遍历\n",
    "        print(self.data,end=' ')\n",
    "        if self.left != None:\n",
    "            self.left.preorder()\n",
    "        if self.right != None:\n",
    "            self.right.preorder()\n",
    "    def midorder(self):  # 中序遍历\n",
    "        if self.left != None:\n",
    "            self.left.midorder()\n",
    "        print(self.data,end=' ')\n",
    "        if self.right != None:\n",
    "            self.right.midorder()\n",
    "    def postorder(self):  # 后序遍历\n",
    "        if self.left != None:\n",
    "            self.left.preorder()\n",
    "        if self.right != None:\n",
    "            self.right.preorder()\n",
    "        print(self.data,end=' ')\n",
    "    def height(self):\n",
    "        if self.data is None:  # 空的树高度为0, 只有root节点的树高度为1\n",
    "            return 0\n",
    "        elif self.left is None and self.right is None:\n",
    "            return 1\n",
    "        elif self.left is None and self.right is not None:\n",
    "            return 1 + self.right.height()\n",
    "        elif self.left is not None and self.right is None:\n",
    "            return 1 + self.left.height()\n",
    "        else:\n",
    "            return 1 + max(self.left.height(), self.right.height())\n",
    "    def leaf(self):\n",
    "        if self==None:\n",
    "            return\n",
    "        self.left.preorder()\n",
    "        self.right.preorder()"
   ]
  },
  {
   "cell_type": "code",
   "execution_count": null,
   "id": "bf8ec40c-f6ea-40b1-bd77-db2bf030ae83",
   "metadata": {},
   "outputs": [],
   "source": []
  }
 ],
 "metadata": {
  "kernelspec": {
   "display_name": "Python 3 (ipykernel)",
   "language": "python",
   "name": "python3"
  },
  "language_info": {
   "codemirror_mode": {
    "name": "ipython",
    "version": 3
   },
   "file_extension": ".py",
   "mimetype": "text/x-python",
   "name": "python",
   "nbconvert_exporter": "python",
   "pygments_lexer": "ipython3",
   "version": "3.10.4"
  }
 },
 "nbformat": 4,
 "nbformat_minor": 5
}
