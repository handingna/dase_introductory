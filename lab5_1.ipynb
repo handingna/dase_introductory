{
 "cells": [
  {
   "cell_type": "code",
   "execution_count": 6,
   "id": "62e78a33-a5f4-4765-a671-c65526f86257",
   "metadata": {},
   "outputs": [
    {
     "name": "stdout",
     "output_type": "stream",
     "text": [
      "[-1, 0, 1, 2, 3, 4, 5, 6, 7, 9]\n"
     ]
    }
   ],
   "source": [
    "#Q1 请用Python编写冒泡排序的算法\n",
    "arr=[7,9,0,-1,6,4,3,1,2,5]\n",
    "l=len(arr)\n",
    "for i in range(l):\n",
    "    for j in range(0,l-1):\n",
    "        if arr[j]>arr[j+1]:\n",
    "            arr[j], arr[j+1]=arr[j+1], arr[j]\n",
    "    l=l-1\n",
    "print(arr)"
   ]
  }
 ],
 "metadata": {
  "kernelspec": {
   "display_name": "Python 3 (ipykernel)",
   "language": "python",
   "name": "python3"
  },
  "language_info": {
   "codemirror_mode": {
    "name": "ipython",
    "version": 3
   },
   "file_extension": ".py",
   "mimetype": "text/x-python",
   "name": "python",
   "nbconvert_exporter": "python",
   "pygments_lexer": "ipython3",
   "version": "3.10.4"
  }
 },
 "nbformat": 4,
 "nbformat_minor": 5
}
