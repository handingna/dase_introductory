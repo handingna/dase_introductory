{
 "cells": [
  {
   "cell_type": "code",
   "execution_count": 1,
   "id": "fd3e8b71-2c58-42a2-9c39-bba5b072e4c5",
   "metadata": {},
   "outputs": [
    {
     "name": "stdin",
     "output_type": "stream",
     "text": [
      " bvsv dwh b dwebh \n"
     ]
    },
    {
     "name": "stdout",
     "output_type": "stream",
     "text": [
      "bvsvdwhbdwebh\n"
     ]
    }
   ],
   "source": [
    "#Q4 字符串练习2: 写一个Ptyhon程序，输入一个字符串S，去掉其中所有空格后输出。\n",
    "s=input()\n",
    "s=s.replace(' ', '')\n",
    "print(s)"
   ]
  }
 ],
 "metadata": {
  "kernelspec": {
   "display_name": "Python 3 (ipykernel)",
   "language": "python",
   "name": "python3"
  },
  "language_info": {
   "codemirror_mode": {
    "name": "ipython",
    "version": 3
   },
   "file_extension": ".py",
   "mimetype": "text/x-python",
   "name": "python",
   "nbconvert_exporter": "python",
   "pygments_lexer": "ipython3",
   "version": "3.10.4"
  }
 },
 "nbformat": 4,
 "nbformat_minor": 5
}
