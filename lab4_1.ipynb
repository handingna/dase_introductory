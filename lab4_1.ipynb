{
 "cells": [
  {
   "cell_type": "code",
   "execution_count": 3,
   "id": "f6133c4b-613b-405e-b91a-d5c4933b3c14",
   "metadata": {},
   "outputs": [
    {
     "name": "stdin",
     "output_type": "stream",
     "text": [
      " 203.179.25.37\n"
     ]
    },
    {
     "name": "stdout",
     "output_type": "stream",
     "text": [
      "11001011101100110001100100100101"
     ]
    }
   ],
   "source": [
    "#Q1 请编写一个函数，利用 辗转除2取余法（不要使用int的直接转换） \n",
    "#   实现将我们常见的十进制IPv4地址例如203.179.25.37转换为32位长的二进制地址。11001011101100110001100100100101\n",
    "\n",
    "def detobi(a):\n",
    "    b=int (a)\n",
    "    l=[]\n",
    "    while b>0:\n",
    "        l.append(b%2)\n",
    "        b=b//2\n",
    "    while len(l)<8:\n",
    "        l.append(0)\n",
    "    l.reverse()\n",
    "    return l\n",
    "ip=input()\n",
    "ip_=ip.split(\".\")\n",
    "l=[]\n",
    "for i in range(4):\n",
    "    l.append(detobi(ip_[i]))   \n",
    "for i in range(4):\n",
    "    for j in range(8):\n",
    "        print(l[i][j],end=\"\")\n",
    "    \n"
   ]
  },
  {
   "cell_type": "code",
   "execution_count": null,
   "id": "ddbdea84-26e1-4a86-8047-2a53e6ac7fd9",
   "metadata": {},
   "outputs": [],
   "source": []
  }
 ],
 "metadata": {
  "kernelspec": {
   "display_name": "Python 3 (ipykernel)",
   "language": "python",
   "name": "python3"
  },
  "language_info": {
   "codemirror_mode": {
    "name": "ipython",
    "version": 3
   },
   "file_extension": ".py",
   "mimetype": "text/x-python",
   "name": "python",
   "nbconvert_exporter": "python",
   "pygments_lexer": "ipython3",
   "version": "3.10.4"
  }
 },
 "nbformat": 4,
 "nbformat_minor": 5
}
