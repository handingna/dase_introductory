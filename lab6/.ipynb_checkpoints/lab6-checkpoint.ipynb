{
 "cells": [
  {
   "cell_type": "code",
   "execution_count": 22,
   "id": "a7ef2af1-8a80-4164-ab6a-c6348d73f4b7",
   "metadata": {},
   "outputs": [
    {
     "name": "stdout",
     "output_type": "stream",
     "text": [
      "获取数据可以从网络上在线获得，更多的时候需要读取存储在硬盘上的文件。同样，一些程序的运行结果需要持久存储在硬盘中，\n",
      "否则程序运行结束或计算机断电重启后我们需要再次运行程序，这对于大规模程序来说，既耗费时间又占用系统资源。\n",
      "所以我们需要对文件的读写操作有初步的认识。\n",
      "获取数据可以从网络上在线获得，更多的时候需要读取存储在硬盘上的文件。同样，一些程序的运行结果需要持久存储在硬盘中，\n",
      "['获取数据可以从网络上在线获得，更多的时候需要读取存储在硬盘上的文件。同样，一些程序的运行结果需要持久存储在硬盘中，\\n', '否则程序运行结束或计算机断电重启后我们需要再次运行程序，这对于大规模程序来说，既耗费时间又占用系统资源。\\n', '所以我们需要对文件的读写操作有初步的认识。']\n"
     ]
    }
   ],
   "source": [
    "#Q1实验6-2的步骤2中介绍了读取整个文件的read()方法，请自己用记事本创建一个txt文件，里面写上几行内容，再编写程序，\n",
    "#  体会readline()和readlines()方法的作用。\n",
    "\n",
    "f1=open('lab6/lab6_1.txt', 'r', encoding=\"utf-8\")\n",
    "s=f1.read()\n",
    "print(s)\n",
    "f1.seek(0)\n",
    "s1=f1.readline()\n",
    "print(s1, end='')\n",
    "f1.seek(0)\n",
    "s2=f1.readlines()\n",
    "print(s2)\n",
    "f1.close()"
   ]
  },
  {
   "cell_type": "code",
   "execution_count": 43,
   "id": "c9681bec-1527-4417-98d0-f6242dd0773e",
   "metadata": {},
   "outputs": [
    {
     "name": "stdout",
     "output_type": "stream",
     "text": [
      "82.60\n",
      "81.00\n",
      "81.80\n"
     ]
    }
   ],
   "source": [
    "#Q2 stuGrade.csv文件中包含5位同学的学号、语文成绩、数学成绩和英语成绩，请先用记事本打开该文件，查看文件内容，\n",
    "#   然后编写Python程序，读取该文件，并计算出各科的平均成绩（保留2位小数）。\n",
    "import csv\n",
    "import numpy as np\n",
    "\n",
    "with open('lab6/stuGrade.csv') as f2:\n",
    "    line=csv.reader(f2, delimiter=',')\n",
    "    next(line)\n",
    "    chinese=[]\n",
    "    math=[]\n",
    "    english=[]\n",
    "    for l in line:\n",
    "        chinese.append(float(l[1]))\n",
    "        math.append(float(l[2]))\n",
    "        english.append(float(l[3]))\n",
    "c=np.mean(chinese)\n",
    "m=np.mean(math)\n",
    "e=np.mean(english)\n",
    "print(\"%.2f\"%c) \n",
    "print(\"%.2f\"%m) \n",
    "print(\"%.2f\"%e) "
   ]
  },
  {
   "cell_type": "code",
   "execution_count": 55,
   "id": "40cc9989-10b5-4a8f-a0a6-6d1fd45ce9bc",
   "metadata": {},
   "outputs": [],
   "source": [
    "#Q3 请在第2题的代码继续编写Python程序，将以下内容写入my.txt文件中：\n",
    "#   第1行：你的学号和姓名\n",
    "#   第2行：3门课程的平均成绩，保留2位小数，以英文逗号间隔\n",
    "#   第3行：系统当前时间，格式例如2020-01-01 12:00:00\n",
    "#   第4行：两秒后的系统当前时间（利用sleep()方法）\n",
    "import time\n",
    "with open('lab6/my.txt', 'w', encoding=\"utf-8\") as f3:\n",
    "    f3.write(\"10215501418 洪贝贝\\n\")\n",
    "    f3.write(str(c)+\",\"+str(m)+\",\"+str(e)+\"\\n\")\n",
    "    t1=time.strftime(\"%Y-%m-%d %H:%M:%S\",time.localtime())\n",
    "    time.sleep(2)\n",
    "    t2=time.strftime(\"%Y-%m-%d %H:%M:%S\",time.localtime())\n",
    "    f3.write(str(t1)+\"\\n\")\n",
    "    f3.write(str(t2))"
   ]
  },
  {
   "cell_type": "code",
   "execution_count": null,
   "id": "7c751c01-321e-4c5e-aa3a-8c8fe95d5a4c",
   "metadata": {},
   "outputs": [],
   "source": [
    "#Q4 在Jupyterhub(https://jupyterhub.shuishan.net.cn/ )练习实验6-3的相关命令"
   ]
  }
 ],
 "metadata": {
  "kernelspec": {
   "display_name": "Python 3 (ipykernel)",
   "language": "python",
   "name": "python3"
  },
  "language_info": {
   "codemirror_mode": {
    "name": "ipython",
    "version": 3
   },
   "file_extension": ".py",
   "mimetype": "text/x-python",
   "name": "python",
   "nbconvert_exporter": "python",
   "pygments_lexer": "ipython3",
   "version": "3.10.4"
  }
 },
 "nbformat": 4,
 "nbformat_minor": 5
}
