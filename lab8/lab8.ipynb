{
 "cells": [
  {
   "cell_type": "code",
   "execution_count": null,
   "id": "62951d4e-5d52-4485-a622-fdb1f59f0e86",
   "metadata": {},
   "outputs": [],
   "source": [
    "#数据库dase_intro_2020有一张名为bicycle_train的表，该表存储了两个城市在不同因素影响下某小时共享单车租用的数量。\n",
    "#该表所有值均为整型数据，表结构为：\n",
    "\n",
    "# id 记录编号，无其他意义\n",
    "# city 城市代号，0为北京，1为上海\n",
    "# hour 小时，代表时间\n",
    "# is_workday 是否为工作日，0为否，1为是\n",
    "# temp_air 大气温度，单位为摄氏度\n",
    "# temp_body 体感温度，单位为摄氏度\n",
    "# weather 天气代号，1为晴天，2为多云或阴天，3为雨天或雪天\n",
    "# wind 风级，数值越大代表风速越大\n",
    "# y 该小时内共享单车被租用的数量\n"
   ]
  },
  {
   "cell_type": "code",
   "execution_count": 1,
   "id": "64a4edba",
   "metadata": {},
   "outputs": [
    {
     "name": "stdout",
     "output_type": "stream",
     "text": [
      "((18, 1, 17, 1, 8, 4, 1, 2, 75), (19, 1, 1, 1, 18, 19, 1, 3, 5), (20, 1, 7, 0, 23, 25, 2, 1, 13), (21, 0, 9, 0, 25, 27, 1, 0, 67), (22, 0, 16, 1, 11, 11, 3, 2, 76))\n"
     ]
    }
   ],
   "source": [
    "import pymysql\n",
    "\n",
    "db = pymysql.connect(host = \"cdb-r2g8flnu.bj.tencentcdb.com\", port = 10209, user = \"dase2020\", password = \"dase2020\", database = \"dase_intro_2020\")\n",
    "cursor = db.cursor()  # 使用 cursor() 方法创建一个游标对象 cursor,执行SQL语句都是通过游标对象实现\n",
    "sql = \"SELECT VERSION();\"  # 该SQL语句返回MySQL的安装版本，用以确定是否成功连接服务器\n",
    "cursor.execute(sql)  # 执行SQL语句\n",
    "result = cursor.fetchone()  # 获取单条数据\n",
    "print(result)\n",
    "\n",
    "\n",
    "sql = \"SELECT stuNo,courseNo,grade FROM school_grade;\"\n",
    "cursor.execute(sql)\n",
    "result = cursor.fetchone()#一行\n",
    "print(result)\n",
    "\n",
    "sql = \"SELECT stuNo,courseNo,grade FROM school_grade;\"\n",
    "cursor.execute(sql)\n",
    "result = cursor.fetchall()#全部\n",
    "print(result)\n",
    "\n",
    "#请编写Python程序，连接到数据库（主机地址、用户名及密码见实验8-2），查询以下问题，并合理处理数据，以适当的方式将结果输出至屏幕。\n",
    "import pymysql\n",
    "#Q1从第18条记录开始的5条记录；\n",
    "sql=\"SELECT * FROM bicycle_train LIMIT 17, 5;\"\n",
    "cursor.execute(sql)\n",
    "result = cursor.fetchall()\n",
    "print(result)\n",
    "#Q2数据表中风级(wind)取值范围是多少；\n",
    "\n",
    "#Q3满足城市为北京市，10时，晴天，无风或1级风，租用单车数量不小于100条件下大气温度的平均值；\n",
    "#参考答案：20.6\n",
    "\n",
    "#Q4满足城市为北京市，10时，晴天，无风或1级风，租用单车数量不小于100条件下大气温度的方差；\n",
    "#提示：需要在Python中对返回的数据进行后续处理\n",
    "#参考答案：37.64\n",
    "\n",
    "#Q5分城市显示工作日雨雪天单车租用总量，并降序排序；\n",
    "#参考答案：上海为 9106。北京为 8084\n",
    "\n",
    "#Q6分别查询17时至19时每小时上海市在工作日且体感温度不大于10摄氏度时租用单车的平均值（四舍五入至整数），并且结果按升序排序。\n",
    "#参考答案：17时 65辆；18时 63辆；19时 42辆"
   ]
  }
 ],
 "metadata": {
  "kernelspec": {
   "display_name": "Python 3 (ipykernel)",
   "language": "python",
   "name": "python3"
  },
  "language_info": {
   "codemirror_mode": {
    "name": "ipython",
    "version": 3
   },
   "file_extension": ".py",
   "mimetype": "text/x-python",
   "name": "python",
   "nbconvert_exporter": "python",
   "pygments_lexer": "ipython3",
   "version": "3.10.4"
  }
 },
 "nbformat": 4,
 "nbformat_minor": 5
}
