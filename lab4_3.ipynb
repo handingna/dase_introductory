{
 "cells": [
  {
   "cell_type": "code",
   "execution_count": 5,
   "id": "dcca56b7-2cdb-47ad-bb2f-ba5057e29dff",
   "metadata": {},
   "outputs": [
    {
     "name": "stdout",
     "output_type": "stream",
     "text": [
      "3 5 1 6 2 0 8 7 4 \n"
     ]
    }
   ],
   "source": [
    "#Q3 请在实验4-4的基础上实现二叉树的层序遍历的函数。\n",
    "#   提示：需要用到队列\n",
    "\n",
    "class BinaryTree:\n",
    "    def __init__(self,data=None,left=None,right=None):  # 如果创建节点对象时left或right参数为空，则默认该节点没有左或右子树\n",
    "        self.data=data\n",
    "        self.left=left\n",
    "        self.right=right\n",
    "    def preorder(self):  # 前序遍历\n",
    "        print(self.data,end=' ')\n",
    "        if self.left != None:\n",
    "            self.left.preorder()\n",
    "        if self.right != None:\n",
    "            self.right.preorder()\n",
    "    def midorder(self):  # 中序遍历\n",
    "        if self.left != None:\n",
    "            self.left.midorder()\n",
    "        print(self.data,end=' ')\n",
    "        if self.right != None:\n",
    "            self.right.midorder()\n",
    "    def postorder(self):  # 后序遍历\n",
    "        if self.left != None:\n",
    "            self.left.preorder()\n",
    "        if self.right != None:\n",
    "            self.right.preorder()\n",
    "        print(self.data,end=' ')\n",
    "    def height(self):\n",
    "        if self.data is None:  # 空的树高度为0, 只有root节点的树高度为1\n",
    "            return 0\n",
    "        elif self.left is None and self.right is None:\n",
    "            return 1\n",
    "        elif self.left is None and self.right is not None:\n",
    "            return 1 + self.right.height()\n",
    "        elif self.left is not None and self.right is None:\n",
    "            return 1 + self.left.height()\n",
    "        else:\n",
    "            return 1 + max(self.left.height(), self.right.height())\n",
    "    def order(self):\n",
    "        if self==None:\n",
    "            return\n",
    "        qu=[]\n",
    "        qu.append(self) #根结点进队\n",
    "        while qu:\n",
    "            f=qu.pop(0)\n",
    "            print(f.data, end=\" \")\n",
    "            if f.left!=None:\n",
    "                qu.append(f.left)\n",
    "            if f.right!=None:\n",
    "                qu.append(f.right)\n"
   ]
  },
  {
   "cell_type": "code",
   "execution_count": null,
   "id": "2931ce8d-ca91-4c80-968e-b19028b9e841",
   "metadata": {},
   "outputs": [],
   "source": []
  }
 ],
 "metadata": {
  "kernelspec": {
   "display_name": "Python 3 (ipykernel)",
   "language": "python",
   "name": "python3"
  },
  "language_info": {
   "codemirror_mode": {
    "name": "ipython",
    "version": 3
   },
   "file_extension": ".py",
   "mimetype": "text/x-python",
   "name": "python",
   "nbconvert_exporter": "python",
   "pygments_lexer": "ipython3",
   "version": "3.10.4"
  }
 },
 "nbformat": 4,
 "nbformat_minor": 5
}
