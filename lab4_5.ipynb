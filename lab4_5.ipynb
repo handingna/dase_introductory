{
 "cells": [
  {
   "cell_type": "code",
   "execution_count": 9,
   "id": "67117251-b335-48ac-a1a5-918a12469119",
   "metadata": {},
   "outputs": [
    {
     "name": "stdout",
     "output_type": "stream",
     "text": [
      "<re.Match object; span=(0, 11), match='18045928264'>\n",
      "None\n",
      "<re.Match object; span=(0, 11), match='18895392433'>\n"
     ]
    }
   ],
   "source": [
    "#Q5 （选做） 目前中国内地三大运营商的手机号段分布如下：\n",
    "#中国电信：133、153、173、177、180、181、189、191、193、199\n",
    "#中国联通：130、131、132、155、156、166、175、176、185、186\n",
    "#中国移动：134(但第4位不含9)、135、136、137、138、139、147、150、151、152、157、158、159、172、178、182、183、184、187、188、198\n",
    "#中国内地的手机号长度为11位，请设计一个正则表达式，并在Python中测试某个手机号是否为合法的手机号。\n",
    "import re\n",
    "p1='^1(33|53|73|77|8[0-1]|89|91|93|99)([0-9]{8})'\n",
    "p2='^1(3[0-2]|5[5-6]|66|7[5-6]|8[5-6])([0-9]{8})'\n",
    "p3_1='^1(3[5-9]|47|5[0-2]|5[7-9]|72|78|8[2-4]|8[7-8]|98)([0-9]{8})'\n",
    "p3_2='^134([0-3]|[5-9])([0-9]{7})'\n",
    "s1='18045928264'\n",
    "s2='13443103281'\n",
    "s3='18895392433'\n",
    "print(re.match(p1,s1))\n",
    "print(re.match(p3_2,s2))\n",
    "print(re.match(p3_1,s3))"
   ]
  },
  {
   "cell_type": "code",
   "execution_count": null,
   "id": "1630e919-779c-4154-ac0c-d69c542698e5",
   "metadata": {},
   "outputs": [],
   "source": []
  }
 ],
 "metadata": {
  "kernelspec": {
   "display_name": "Python 3 (ipykernel)",
   "language": "python",
   "name": "python3"
  },
  "language_info": {
   "codemirror_mode": {
    "name": "ipython",
    "version": 3
   },
   "file_extension": ".py",
   "mimetype": "text/x-python",
   "name": "python",
   "nbconvert_exporter": "python",
   "pygments_lexer": "ipython3",
   "version": "3.10.4"
  }
 },
 "nbformat": 4,
 "nbformat_minor": 5
}
