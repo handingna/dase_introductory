{
 "cells": [
  {
   "cell_type": "code",
   "execution_count": 7,
   "id": "5d38b1a4-8581-43e9-b09e-60c86872efcd",
   "metadata": {},
   "outputs": [
    {
     "name": "stdout",
     "output_type": "stream",
     "text": [
      "0.583236\n"
     ]
    }
   ],
   "source": [
    "#Q5 蒙特卡罗求积分 根据蒙特卡罗思想，用Python编写程序计算区间[0,1]上定积分：$\\int(x^3+x^2)dx$\n",
    "\n",
    "import random\n",
    "import math\n",
    "def f(x):\n",
    "    return math.pow(x, 2) + math.pow(x, 3)\n",
    "def g(x):\n",
    "    return (1/f(1)) * f(x)\n",
    "count=0\n",
    "n=1000000\n",
    "s=f(1)\n",
    "for i in range(n):\n",
    "    x=random.uniform(0.0,1)\n",
    "    y=random.uniform(0.0,1)\n",
    "    if y <= g(x) :\n",
    "        count+=1\n",
    "print(count*s/n)"
   ]
  },
  {
   "cell_type": "code",
   "execution_count": null,
   "id": "4dbca20e-fbd4-4183-b548-09ff4d29583b",
   "metadata": {},
   "outputs": [],
   "source": []
  }
 ],
 "metadata": {
  "kernelspec": {
   "display_name": "Python 3 (ipykernel)",
   "language": "python",
   "name": "python3"
  },
  "language_info": {
   "codemirror_mode": {
    "name": "ipython",
    "version": 3
   },
   "file_extension": ".py",
   "mimetype": "text/x-python",
   "name": "python",
   "nbconvert_exporter": "python",
   "pygments_lexer": "ipython3",
   "version": "3.10.4"
  }
 },
 "nbformat": 4,
 "nbformat_minor": 5
}
