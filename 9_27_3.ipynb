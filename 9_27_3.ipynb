{
 "cells": [
  {
   "cell_type": "code",
   "execution_count": 13,
   "id": "51f854b7-6cc0-4c00-afed-7729a9e93321",
   "metadata": {},
   "outputs": [
    {
     "name": "stdin",
     "output_type": "stream",
     "text": [
      " jhfhgfggggdjskjdhhhhh\n"
     ]
    },
    {
     "name": "stdout",
     "output_type": "stream",
     "text": [
      "5\n"
     ]
    }
   ],
   "source": [
    "#Q3 字符串练习：写一个Python程序，判断一个输入的字符串s，是否包含两个或两个以上连续出现的相同字符组成的字符串，并输出最长连续出现的字符长度。\n",
    "s=input()\n",
    "count=[1]*len(s)\n",
    "j=0\n",
    "for i in range(len(s)-1):\n",
    "    if s[i+1]==s[i]:\n",
    "        count[j]+=1\n",
    "    else:\n",
    "        j+=1\n",
    "count.sort(reverse = True)\n",
    "print(count[0])"
   ]
  },
  {
   "cell_type": "code",
   "execution_count": null,
   "id": "80d9dce9-b9b5-4ed1-a806-4726e10fe325",
   "metadata": {},
   "outputs": [],
   "source": []
  }
 ],
 "metadata": {
  "kernelspec": {
   "display_name": "Python 3 (ipykernel)",
   "language": "python",
   "name": "python3"
  },
  "language_info": {
   "codemirror_mode": {
    "name": "ipython",
    "version": 3
   },
   "file_extension": ".py",
   "mimetype": "text/x-python",
   "name": "python",
   "nbconvert_exporter": "python",
   "pygments_lexer": "ipython3",
   "version": "3.10.4"
  }
 },
 "nbformat": 4,
 "nbformat_minor": 5
}
