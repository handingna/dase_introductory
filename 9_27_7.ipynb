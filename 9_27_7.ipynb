{
 "cells": [
  {
   "cell_type": "code",
   "execution_count": 1,
   "id": "6cf431d7-bc13-4751-bb53-73d24e6004f2",
   "metadata": {},
   "outputs": [],
   "source": [
    "#Q7 （选做）至少使用三种方法求解$\\pi$的值，并比较他们的效率（精度保留在小数点后10位）\n",
    "#    提示：可以通过多种级数解析式来计算"
   ]
  },
  {
   "cell_type": "code",
   "execution_count": 1,
   "id": "ceee94c6-fd43-447a-bd8b-52bbfba12e08",
   "metadata": {},
   "outputs": [
    {
     "name": "stdout",
     "output_type": "stream",
     "text": [
      "3.142668\n"
     ]
    }
   ],
   "source": [
    "#A1 蒙特卡洛\n",
    "import random\n",
    "count=0\n",
    "n=1000000\n",
    "for i in range(1, n):\n",
    "    x=random.uniform(0.0,1)\n",
    "    y=random.uniform(0.0,1)\n",
    "    if (x*x+y*y)<=1:\n",
    "        count+=1\n",
    "print(count/n*4)"
   ]
  },
  {
   "cell_type": "code",
   "execution_count": 5,
   "id": "3e2303ab-3f13-49b5-ac42-15c09e978dff",
   "metadata": {},
   "outputs": [
    {
     "name": "stdout",
     "output_type": "stream",
     "text": [
      "3.1415926535897936\n"
     ]
    }
   ],
   "source": [
    "#A2 拉马努金法\n",
    "import math\n",
    "def Fact(n):\n",
    "    if n==0 or n==1:\n",
    "        return 1\n",
    "    else:\n",
    "        return n*Fact(n-1)\n",
    "sum=0\n",
    "i=0\n",
    "confficient=2*(math.sqrt(2))/9801\n",
    "while 1:\n",
    "    numerator=(26390*i+1103)*Fact(4*i)\n",
    "    denominator=(396**(4*i))*((Fact(i)**4))\n",
    "    sum=sum+confficient*numerator/denominator\n",
    "    if confficient*numerator/denominator<1e-6:\n",
    "        break\n",
    "    i+=1\n",
    "print(1/sum)"
   ]
  },
  {
   "cell_type": "code",
   "execution_count": 20,
   "id": "6df67d4c-83a4-45e2-97fd-fdf0b9d45e88",
   "metadata": {},
   "outputs": [
    {
     "name": "stdout",
     "output_type": "stream",
     "text": [
      "3.1405970293260603\n"
     ]
    }
   ],
   "source": [
    "#A3 马青公式 π/4=4arctan1/5-arctan1/239  arctan(x) = x − x3/3 + x5/5 − x7/7 + x9/9 − x11/11 + . . .\n",
    "import math\n",
    "def A(x):\n",
    "    i=1\n",
    "    sum=0\n",
    "    while 1:\n",
    "        sum=sum+(((-1)**(i+1))*(x**(2*i-1)))/(2*i-1)\n",
    "        if (((-1)**(i+1))*(x**(2*i-1)))/(2*i-1)<1e-15:\n",
    "            break\n",
    "        i+=1\n",
    "    return sum\n",
    "print(16*Arctan(1/5)-4*Arctan(1/239))\n"
   ]
  }
 ],
 "metadata": {
  "kernelspec": {
   "display_name": "Python 3 (ipykernel)",
   "language": "python",
   "name": "python3"
  },
  "language_info": {
   "codemirror_mode": {
    "name": "ipython",
    "version": 3
   },
   "file_extension": ".py",
   "mimetype": "text/x-python",
   "name": "python",
   "nbconvert_exporter": "python",
   "pygments_lexer": "ipython3",
   "version": "3.10.4"
  }
 },
 "nbformat": 4,
 "nbformat_minor": 5
}
