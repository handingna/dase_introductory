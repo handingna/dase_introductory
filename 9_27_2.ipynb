{
 "cells": [
  {
   "cell_type": "code",
   "execution_count": 4,
   "id": "d5238720-a1ce-4274-ad8f-9bbcb51e1cec",
   "metadata": {},
   "outputs": [],
   "source": [
    "#Q2 循环练习：写一个Python程序，实现分别用for和while循环、数组切片实现对一个给定列表的倒排序输出。\n",
    "l = [1,2,3,4,5]"
   ]
  },
  {
   "cell_type": "code",
   "execution_count": 8,
   "id": "31dc15cd-0568-42bc-b144-b34697be04cb",
   "metadata": {},
   "outputs": [
    {
     "name": "stdout",
     "output_type": "stream",
     "text": [
      "54321"
     ]
    }
   ],
   "source": [
    "#1\n",
    "for i in range(0,5):\n",
    "    print(l[4-i])"
   ]
  },
  {
   "cell_type": "code",
   "execution_count": 6,
   "id": "ee6790ab-0d8c-4e87-a882-f43f6a6b863b",
   "metadata": {},
   "outputs": [
    {
     "name": "stdout",
     "output_type": "stream",
     "text": [
      "5\n",
      "4\n",
      "3\n",
      "2\n",
      "1\n"
     ]
    }
   ],
   "source": [
    "#2\n",
    "j=0\n",
    "while j<5:\n",
    "    print(l[4-j])\n",
    "    j=j+1"
   ]
  },
  {
   "cell_type": "code",
   "execution_count": 7,
   "id": "e21d8070-2421-4061-b4dd-a7e38853b34f",
   "metadata": {},
   "outputs": [
    {
     "name": "stdout",
     "output_type": "stream",
     "text": [
      "[5, 4, 3, 2, 1]\n"
     ]
    }
   ],
   "source": [
    "#3\n",
    "print(l[::-1])"
   ]
  }
 ],
 "metadata": {
  "kernelspec": {
   "display_name": "Python 3 (ipykernel)",
   "language": "python",
   "name": "python3"
  },
  "language_info": {
   "codemirror_mode": {
    "name": "ipython",
    "version": 3
   },
   "file_extension": ".py",
   "mimetype": "text/x-python",
   "name": "python",
   "nbconvert_exporter": "python",
   "pygments_lexer": "ipython3",
   "version": "3.10.4"
  }
 },
 "nbformat": 4,
 "nbformat_minor": 5
}
