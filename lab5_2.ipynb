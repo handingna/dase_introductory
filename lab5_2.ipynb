{
 "cells": [
  {
   "cell_type": "code",
   "execution_count": null,
   "id": "ddb83788-90ee-4322-8af8-c7219f11b96b",
   "metadata": {},
   "outputs": [],
   "source": [
    "#Q2 请对两种解决同一问题（比如求函数导数、查找算法等等）但是时间复杂度不同的算法进行效率比较。(选做)"
   ]
  },
  {
   "cell_type": "code",
   "execution_count": 9,
   "id": "0f656f63-bfc0-48e9-87bd-9db17b19e8fc",
   "metadata": {},
   "outputs": [
    {
     "name": "stdout",
     "output_type": "stream",
     "text": [
      "0.002157400012947619\n",
      "5.6100019719451666e-05\n",
      "5.729999975301325e-05\n"
     ]
    }
   ],
   "source": [
    "#线性查找\n",
    "def linsea(l, x):\n",
    "    i=0\n",
    "    found = False     \n",
    "    \n",
    "    while i<len(l) and found is False:\n",
    "        if l[i]==x:\n",
    "            found=True\n",
    "        else:\n",
    "            i=i+1\n",
    "    return found\n",
    "\n",
    "#二分查找\n",
    "def bisea(l, x):\n",
    "    start=0\n",
    "    end=len(l)-1\n",
    "    found = False\n",
    " \n",
    "    while start<=end and not found:\n",
    "        mid=(start+end)//2\n",
    "        if l[mid]==x:\n",
    "            found = True\n",
    "        else:\n",
    "            if x<l[mid]:\n",
    "                end=mid-1\n",
    "            else:\n",
    "                start=mid+1\n",
    "    return found\n",
    "\n",
    "#插值查找\n",
    "def intersea(l, x):\n",
    "    start=0\n",
    "    end=len(l)-1\n",
    "    found = False\n",
    " \n",
    "    while start<=end and not found:\n",
    "        mid=start+int(((float(end-start)/(l[end]-l[start]))*(x-l[start])))\n",
    "        if l[mid]==x:\n",
    "            found = True\n",
    "        else:\n",
    "            if x<l[mid]:\n",
    "                end=mid-1\n",
    "            else:\n",
    "                start=mid+1\n",
    "    return found\n",
    "\n",
    "import time\n",
    "import random\n",
    "\n",
    "arr=[]\n",
    "for i in range(10000):\n",
    "    arr.append(random.random())\n",
    "arr.sort()\n",
    "x=random.random()\n",
    "\n",
    "t_start=time.perf_counter()\n",
    "linsea(arr, x)\n",
    "t_end=time.perf_counter()\n",
    "print(t_end-t_start)\n",
    "\n",
    "t_start=time.perf_counter()\n",
    "bisea(arr, x)\n",
    "t_end=time.perf_counter()\n",
    "print(t_end-t_start)\n",
    "\n",
    "t_start=time.perf_counter()\n",
    "intersea(arr, x)\n",
    "t_end=time.perf_counter()\n",
    "print(t_end-t_start)"
   ]
  },
  {
   "cell_type": "code",
   "execution_count": null,
   "id": "a6804b01-172b-402f-91a0-6b0266c716fd",
   "metadata": {},
   "outputs": [],
   "source": []
  }
 ],
 "metadata": {
  "kernelspec": {
   "display_name": "Python 3 (ipykernel)",
   "language": "python",
   "name": "python3"
  },
  "language_info": {
   "codemirror_mode": {
    "name": "ipython",
    "version": 3
   },
   "file_extension": ".py",
   "mimetype": "text/x-python",
   "name": "python",
   "nbconvert_exporter": "python",
   "pygments_lexer": "ipython3",
   "version": "3.10.4"
  }
 },
 "nbformat": 4,
 "nbformat_minor": 5
}
